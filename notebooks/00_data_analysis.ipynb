{
 "cells": [
  {
   "cell_type": "code",
   "execution_count": 1,
   "id": "06c0c376",
   "metadata": {},
   "outputs": [],
   "source": [
    "import pandas as pd\n",
    "import numpy as np\n",
    "import seaborn as sns\n",
    "from scipy import stats\n",
    "import warnings\n",
    "\n",
    "import matplotlib.pyplot as plt\n",
    "warnings.filterwarnings('ignore')\n",
    "\n",
    "# Set display options for better output\n",
    "pd.set_option('display.max_columns', None)\n",
    "pd.set_option('display.width', None)\n",
    "plt.style.use('default')"
   ]
  },
  {
   "cell_type": "code",
   "execution_count": 2,
   "id": "d647cdd3",
   "metadata": {},
   "outputs": [
    {
     "name": "stdout",
     "output_type": "stream",
     "text": [
      "Sentiment: 31,460 hàng, 4 cột\n",
      "Summary: 102,681 hàng, 3 cột\n"
     ]
    }
   ],
   "source": [
    "# Tải dữ liệu trực tiếp\n",
    "from pathlib import Path\n",
    "\n",
    "# Định nghĩa đường dẫn\n",
    "project_root = Path.cwd().parent\n",
    "data_dir = project_root / \"data\" / \"raw\"\n",
    "\n",
    "# Import trực tiếp 2 dataset\n",
    "df_sentiment = pd.read_csv(data_dir / \"data_sentiment.csv\", encoding='utf-8')\n",
    "df_summary = pd.read_csv(data_dir / \"data_summary.csv\", encoding='utf-8')\n",
    "\n",
    "# Tạo dictionary để dễ xử lý\n",
    "datasets = {\n",
    "    'sentiment': df_sentiment,\n",
    "    'summary': df_summary\n",
    "}\n",
    "\n",
    "print(f\"Sentiment: {len(df_sentiment):,} hàng, {len(df_sentiment.columns)} cột\")\n",
    "print(f\"Summary: {len(df_summary):,} hàng, {len(df_summary.columns)} cột\")"
   ]
  },
  {
   "cell_type": "code",
   "execution_count": 3,
   "id": "75ed9265",
   "metadata": {},
   "outputs": [
    {
     "name": "stdout",
     "output_type": "stream",
     "text": [
      "\n",
      "Dataset sentiment:\n",
      "Kích thước: (31460, 4)\n",
      "Cột: ['comment', 'label', 'rate', 'Unnamed: 3']\n"
     ]
    },
    {
     "data": {
      "text/html": [
       "<div>\n",
       "<style scoped>\n",
       "    .dataframe tbody tr th:only-of-type {\n",
       "        vertical-align: middle;\n",
       "    }\n",
       "\n",
       "    .dataframe tbody tr th {\n",
       "        vertical-align: top;\n",
       "    }\n",
       "\n",
       "    .dataframe thead th {\n",
       "        text-align: right;\n",
       "    }\n",
       "</style>\n",
       "<table border=\"1\" class=\"dataframe\">\n",
       "  <thead>\n",
       "    <tr style=\"text-align: right;\">\n",
       "      <th></th>\n",
       "      <th>comment</th>\n",
       "      <th>label</th>\n",
       "      <th>rate</th>\n",
       "      <th>Unnamed: 3</th>\n",
       "    </tr>\n",
       "  </thead>\n",
       "  <tbody>\n",
       "    <tr>\n",
       "      <th>0</th>\n",
       "      <td>Áo bao đẹp ạ!!</td>\n",
       "      <td>POS</td>\n",
       "      <td>5</td>\n",
       "      <td>NaN</td>\n",
       "    </tr>\n",
       "    <tr>\n",
       "      <th>1</th>\n",
       "      <td>Tuyệt vời !</td>\n",
       "      <td>POS</td>\n",
       "      <td>5</td>\n",
       "      <td>NaN</td>\n",
       "    </tr>\n",
       "    <tr>\n",
       "      <th>2</th>\n",
       "      <td>2day ao khong giong trong.</td>\n",
       "      <td>NEG</td>\n",
       "      <td>1</td>\n",
       "      <td>NaN</td>\n",
       "    </tr>\n",
       "  </tbody>\n",
       "</table>\n",
       "</div>"
      ],
      "text/plain": [
       "                      comment label  rate Unnamed: 3\n",
       "0              Áo bao đẹp ạ!!   POS     5        NaN\n",
       "1                 Tuyệt vời !   POS     5        NaN\n",
       "2  2day ao khong giong trong.   NEG     1        NaN"
      ]
     },
     "metadata": {},
     "output_type": "display_data"
    },
    {
     "name": "stdout",
     "output_type": "stream",
     "text": [
      "\n",
      "Dataset summary:\n",
      "Kích thước: (102681, 3)\n",
      "Cột: ['Unnamed: 0', 'Summary', 'Text']\n"
     ]
    },
    {
     "data": {
      "text/html": [
       "<div>\n",
       "<style scoped>\n",
       "    .dataframe tbody tr th:only-of-type {\n",
       "        vertical-align: middle;\n",
       "    }\n",
       "\n",
       "    .dataframe tbody tr th {\n",
       "        vertical-align: top;\n",
       "    }\n",
       "\n",
       "    .dataframe thead th {\n",
       "        text-align: right;\n",
       "    }\n",
       "</style>\n",
       "<table border=\"1\" class=\"dataframe\">\n",
       "  <thead>\n",
       "    <tr style=\"text-align: right;\">\n",
       "      <th></th>\n",
       "      <th>Unnamed: 0</th>\n",
       "      <th>Summary</th>\n",
       "      <th>Text</th>\n",
       "    </tr>\n",
       "  </thead>\n",
       "  <tbody>\n",
       "    <tr>\n",
       "      <th>0</th>\n",
       "      <td>0</td>\n",
       "      <td>Ngay khi bắt tay ai đó có thể chúng ta đã cảm ...</td>\n",
       "      <td>Tổng thống Mỹ Donald Trump và Tổng thống Pháp ...</td>\n",
       "    </tr>\n",
       "    <tr>\n",
       "      <th>1</th>\n",
       "      <td>1</td>\n",
       "      <td>Rời khỏi Việt Nam vào 10/2016, ông Vũ Đình Duy...</td>\n",
       "      <td>Vũ Đình Duy hồi tháng 5 xuất hiện trước tòa tạ...</td>\n",
       "    </tr>\n",
       "    <tr>\n",
       "      <th>2</th>\n",
       "      <td>2</td>\n",
       "      <td>Thủ tướng Iraq xác nhận với BBC rằng Syria khô...</td>\n",
       "      <td>Ông Maliki xác nhận các vụ không kích của Syri...</td>\n",
       "    </tr>\n",
       "  </tbody>\n",
       "</table>\n",
       "</div>"
      ],
      "text/plain": [
       "   Unnamed: 0                                            Summary  \\\n",
       "0           0  Ngay khi bắt tay ai đó có thể chúng ta đã cảm ...   \n",
       "1           1  Rời khỏi Việt Nam vào 10/2016, ông Vũ Đình Duy...   \n",
       "2           2  Thủ tướng Iraq xác nhận với BBC rằng Syria khô...   \n",
       "\n",
       "                                                Text  \n",
       "0  Tổng thống Mỹ Donald Trump và Tổng thống Pháp ...  \n",
       "1  Vũ Đình Duy hồi tháng 5 xuất hiện trước tòa tạ...  \n",
       "2  Ông Maliki xác nhận các vụ không kích của Syri...  "
      ]
     },
     "metadata": {},
     "output_type": "display_data"
    }
   ],
   "source": [
    "# Phân tích cấu trúc dataset\n",
    "for name, df in datasets.items():\n",
    "    print(f\"\\nDataset {name.lower()}:\")\n",
    "    print(f\"Kích thước: {df.shape}\")\n",
    "    print(f\"Cột: {list(df.columns)}\")\n",
    "    \n",
    "    display(df.head(3))"
   ]
  },
  {
   "cell_type": "code",
   "execution_count": 4,
   "id": "72054295",
   "metadata": {},
   "outputs": [
    {
     "name": "stdout",
     "output_type": "stream",
     "text": [
      "\n",
      "Dataset sentiment:\n",
      "Giá trị thiếu:\n",
      "  Unnamed: 3: 31437 (99.9%)\n",
      "Hàng trùng lặp: 3982 (12.7%)\n",
      "Phân tích cột văn bản:\n",
      "  comment:\n",
      "Chuỗi rỗng: 0\n",
      "Giá trị duy nhất: 26803\n",
      "Độ dài trung bình: 44.9 ký tự\n",
      "  label:\n",
      "Chuỗi rỗng: 0\n",
      "Giá trị duy nhất: 3\n",
      "Độ dài trung bình: 3.0 ký tự\n",
      "  Unnamed: 3:\n",
      "Chuỗi rỗng: 0\n",
      "Giá trị duy nhất: 1\n",
      "Độ dài trung bình: 3.0 ký tự\n",
      "\n",
      "Dataset summary:\n",
      "Giá trị thiếu:\n",
      "  Text: 32 (0.0%)\n",
      "Hàng trùng lặp: 0 (0.0%)\n",
      "Phân tích cột văn bản:\n",
      "  Summary:\n",
      "Chuỗi rỗng: 0\n",
      "Giá trị duy nhất: 89571\n",
      "Độ dài trung bình: 140.6 ký tự\n",
      "  Text:\n",
      "Chuỗi rỗng: 63\n",
      "Giá trị duy nhất: 96284\n",
      "Độ dài trung bình: 3231.2 ký tự\n"
     ]
    }
   ],
   "source": [
    "def phan_tich_chat_luong(df, ten_dataset):\n",
    "    print(f\"\\nDataset {ten_dataset.lower()}:\")\n",
    "    \n",
    "    # Giá trị thiếu\n",
    "    missing = df.isnull().sum()\n",
    "    if missing.sum() == 0:\n",
    "        print(\"Không có giá trị thiếu\")\n",
    "    else:\n",
    "        print(\"Giá trị thiếu:\")\n",
    "        for col in missing[missing > 0].index:\n",
    "            pct = (missing[col] / len(df)) * 100\n",
    "            print(f\"  {col}: {missing[col]} ({pct:.1f}%)\")\n",
    "    \n",
    "    # Hàng trùng lặp\n",
    "    duplicates = df.duplicated().sum()\n",
    "    duplicate_pct = (duplicates / len(df)) * 100\n",
    "    print(f\"Hàng trùng lặp: {duplicates} ({duplicate_pct:.1f}%)\")\n",
    "    \n",
    "    # Phân tích cột văn bản\n",
    "    text_cols = df.select_dtypes(include=['object']).columns\n",
    "    print(\"Phân tích cột văn bản:\")\n",
    "    \n",
    "    for col in text_cols:\n",
    "        if df[col].dtype == 'object':\n",
    "            empty_strings = (df[col].astype(str).str.strip() == '').sum()\n",
    "            unique_count = df[col].nunique()\n",
    "            avg_length = df[col].astype(str).str.len().mean()\n",
    "            \n",
    "            print(f\"  {col}:\")\n",
    "            print(f\"Chuỗi rỗng: {empty_strings}\")\n",
    "            print(f\"Giá trị duy nhất: {unique_count}\")\n",
    "            print(f\"Độ dài trung bình: {avg_length:.1f} ký tự\")\n",
    "    \n",
    "    return {\n",
    "        'missing_values': missing.sum(),\n",
    "        'duplicates': duplicates,\n",
    "        'total_rows': len(df)\n",
    "    }\n",
    "\n",
    "# Phân tích từng dataset\n",
    "quality_reports = {}\n",
    "for name, df in datasets.items():\n",
    "    quality_reports[name] = phan_tich_chat_luong(df, name)"
   ]
  },
  {
   "cell_type": "code",
   "execution_count": 5,
   "id": "1cf0b7b3",
   "metadata": {},
   "outputs": [
    {
     "name": "stdout",
     "output_type": "stream",
     "text": [
      "phân tích văn bản\n",
      "\n",
      "Dataset sentiment (comment):\n",
      "Độ dài trung bình: 44.9 ký tự\n",
      "Số từ trung bình: 10.2 từ\n",
      "\n",
      "Dataset summary:\n",
      "Text - Độ dài TB: 3231.2 ký tự\n",
      "Summary - Độ dài TB: 140.6 ký tự\n",
      "Tỷ lệ nén: 0.044\n"
     ]
    }
   ],
   "source": [
    "# Phân tích văn bản\n",
    "print(\"phân tích văn bản\")\n",
    "\n",
    "# Sentiment dataset\n",
    "df_sent = datasets['sentiment']\n",
    "comment_lengths = df_sent['comment'].astype(str).str.len()\n",
    "comment_words = df_sent['comment'].astype(str).str.split().str.len()\n",
    "\n",
    "print(f\"\\nDataset sentiment (comment):\")\n",
    "print(f\"Độ dài trung bình: {comment_lengths.mean():.1f} ký tự\")\n",
    "print(f\"Số từ trung bình: {comment_words.mean():.1f} từ\")\n",
    "\n",
    "# Summary dataset\n",
    "df_summ = datasets['summary']\n",
    "text_lengths = df_summ['Text'].astype(str).str.len()\n",
    "summary_lengths = df_summ['Summary'].astype(str).str.len()\n",
    "\n",
    "print(f\"\\nDataset summary:\")\n",
    "print(f\"Text - Độ dài TB: {text_lengths.mean():.1f} ký tự\")\n",
    "print(f\"Summary - Độ dài TB: {summary_lengths.mean():.1f} ký tự\")\n",
    "print(f\"Tỷ lệ nén: {(summary_lengths.mean() / text_lengths.mean()):.3f}\")"
   ]
  },
  {
   "cell_type": "code",
   "execution_count": 6,
   "id": "3c1caf12",
   "metadata": {},
   "outputs": [
    {
     "name": "stdout",
     "output_type": "stream",
     "text": [
      "phân tích sentiment\n",
      "\n",
      "Phân phối nhãn:\n",
      "  POS: 20,093 (63.9%)\n",
      "  NEG: 6,669 (21.2%)\n",
      "  NEU: 4,698 (14.9%)\n"
     ]
    }
   ],
   "source": [
    "# Phân tích sentiment\n",
    "print(\"phân tích sentiment\")\n",
    "\n",
    "df_sent = datasets['sentiment']\n",
    "\n",
    "# Phân phối nhãn\n",
    "label_counts = df_sent['label'].value_counts()\n",
    "print(f\"\\nPhân phối nhãn:\")\n",
    "for label, count in label_counts.items():\n",
    "    pct = (count / len(df_sent)) * 100\n",
    "    print(f\"  {label}: {count:,} ({pct:.1f}%)\")"
   ]
  },
  {
   "cell_type": "code",
   "execution_count": 9,
   "id": "ea3b78f1",
   "metadata": {},
   "outputs": [
    {
     "name": "stdout",
     "output_type": "stream",
     "text": [
      "phân tích summary\n",
      "\n",
      "Thống kê:\n",
      "Văn bản gốc: 3231.2 ký tự, 704.2 từ\n",
      "Tóm tắt: 140.6 ký tự, 30.6 từ\n",
      "Tỷ lệ nén: 0.044\n",
      "\n",
      "Ví dụ:\n",
      "Text: Tổng thống Mỹ Donald Trump và Tổng thống Pháp Emmanuel Macron đi cạnh nhau, nắm chặt tay nhau. Loại...\n",
      "Summary: Ngay khi bắt tay ai đó có thể chúng ta đã cảm giác được là có cái gì đó sai sai, nhưng lại không thể biết đích xác là tại sao. Giữ tay quá lâu, nắm quá chặt, hay kéo tay khiến hai người gần sát nhau quá... những thứ đó đều có thể ảnh hưởng tới phần còn lại của cuộc gặp gỡ.\n"
     ]
    }
   ],
   "source": [
    "# Phân tích summary\n",
    "print(\"phân tích summary\")\n",
    "\n",
    "df_summ = datasets['summary']\n",
    "\n",
    "# Tính toán cơ bản\n",
    "text_lengths = df_summ['Text'].astype(str).str.len()\n",
    "summary_lengths = df_summ['Summary'].astype(str).str.len()\n",
    "text_words = df_summ['Text'].astype(str).str.split().str.len()\n",
    "summary_words = df_summ['Summary'].astype(str).str.split().str.len()\n",
    "\n",
    "compression_ratio = summary_lengths.mean() / text_lengths.mean()\n",
    "\n",
    "print(f\"\\nThống kê:\")\n",
    "print(f\"Văn bản gốc: {text_lengths.mean():.1f} ký tự, {text_words.mean():.1f} từ\")\n",
    "print(f\"Tóm tắt: {summary_lengths.mean():.1f} ký tự, {summary_words.mean():.1f} từ\")\n",
    "print(f\"Tỷ lệ nén: {compression_ratio:.3f}\")\n",
    "\n",
    "# Ví dụ\n",
    "print(f\"\\nVí dụ:\")\n",
    "sample = df_summ.iloc[0]\n",
    "print(f\"Text: {str(sample['Text'])[:100]}...\")\n",
    "print(f\"Summary: {sample['Summary']}\")"
   ]
  },
  {
   "cell_type": "code",
   "execution_count": 10,
   "id": "c2f0d715",
   "metadata": {},
   "outputs": [
    {
     "name": "stdout",
     "output_type": "stream",
     "text": [
      "tạo biểu đồ\n"
     ]
    },
    {
     "data": {
      "image/png": "[encoded data removed]",
      "text/plain": [
       "<Figure size 1200x800 with 4 Axes>"
      ]
     },
     "metadata": {},
     "output_type": "display_data"
    },
    {
     "name": "stdout",
     "output_type": "stream",
     "text": [
      "hoàn thành\n"
     ]
    }
   ],
   "source": [
    "# Biểu đồ\n",
    "print(\"tạo biểu đồ\")\n",
    "\n",
    "fig, axes = plt.subplots(2, 2, figsize=(12, 8))\n",
    "fig.suptitle('Phân tích dữ liệu', fontsize=14)\n",
    "\n",
    "# Sentiment - độ dài comment\n",
    "comment_lengths = df_sentiment['comment'].astype(str).str.len()\n",
    "axes[0,0].hist(comment_lengths, bins=30, alpha=0.7, color='blue')\n",
    "axes[0,0].set_title('Sentiment - Độ dài comment')\n",
    "axes[0,0].set_xlabel('Ký tự')\n",
    "\n",
    "# Sentiment - phân phối nhãn\n",
    "label_counts = df_sentiment['label'].value_counts()\n",
    "axes[0,1].bar(label_counts.index, label_counts.values, color=['green', 'red', 'gray'])\n",
    "axes[0,1].set_title('Sentiment - Phân phối nhãn')\n",
    "axes[0,1].set_ylabel('Số lượng')\n",
    "\n",
    "# Summary - độ dài text\n",
    "text_lengths = df_summary['Text'].astype(str).str.len()\n",
    "axes[1,0].hist(text_lengths, bins=30, alpha=0.7, color='orange')\n",
    "axes[1,0].set_title('Summary - Độ dài text')\n",
    "axes[1,0].set_xlabel('Ký tự')\n",
    "\n",
    "# Summary - tỷ lệ nén\n",
    "summary_lengths = df_summary['Summary'].astype(str).str.len()\n",
    "compression_ratios = summary_lengths / text_lengths\n",
    "axes[1,1].hist(compression_ratios, bins=30, alpha=0.7, color='purple')\n",
    "axes[1,1].set_title('Summary - Tỷ lệ nén')\n",
    "axes[1,1].set_xlabel('Tỷ lệ')\n",
    "\n",
    "plt.tight_layout()\n",
    "plt.show()\n",
    "print(\"hoàn thành\")"
   ]
  },
  {
   "cell_type": "code",
   "execution_count": 12,
   "id": "6b9497f3",
   "metadata": {},
   "outputs": [
    {
     "name": "stdout",
     "output_type": "stream",
     "text": [
      "tổng kết\n",
      "\n",
      "Sentiment: 31,460 mẫu\n",
      "Summary: 102,681 mẫu\n",
      "\n",
      "Bảng tóm tắt:\n"
     ]
    },
    {
     "data": {
      "text/html": [
       "<div>\n",
       "<style scoped>\n",
       "    .dataframe tbody tr th:only-of-type {\n",
       "        vertical-align: middle;\n",
       "    }\n",
       "\n",
       "    .dataframe tbody tr th {\n",
       "        vertical-align: top;\n",
       "    }\n",
       "\n",
       "    .dataframe thead th {\n",
       "        text-align: right;\n",
       "    }\n",
       "</style>\n",
       "<table border=\"1\" class=\"dataframe\">\n",
       "  <thead>\n",
       "    <tr style=\"text-align: right;\">\n",
       "      <th></th>\n",
       "      <th>Dataset</th>\n",
       "      <th>Số mẫu</th>\n",
       "      <th>Số cột</th>\n",
       "    </tr>\n",
       "  </thead>\n",
       "  <tbody>\n",
       "    <tr>\n",
       "      <th>0</th>\n",
       "      <td>Sentiment</td>\n",
       "      <td>31460</td>\n",
       "      <td>4</td>\n",
       "    </tr>\n",
       "    <tr>\n",
       "      <th>1</th>\n",
       "      <td>Summary</td>\n",
       "      <td>102681</td>\n",
       "      <td>3</td>\n",
       "    </tr>\n",
       "  </tbody>\n",
       "</table>\n",
       "</div>"
      ],
      "text/plain": [
       "     Dataset  Số mẫu  Số cột\n",
       "0  Sentiment   31460       4\n",
       "1    Summary  102681       3"
      ]
     },
     "metadata": {},
     "output_type": "display_data"
    }
   ],
   "source": [
    "# Tổng kết\n",
    "print(\"tổng kết\")\n",
    "print(f\"\\nSentiment: {len(df_sentiment):,} mẫu\")\n",
    "print(f\"Summary: {len(df_summary):,} mẫu\")\n",
    "\n",
    "summary_table = pd.DataFrame({\n",
    "    'Dataset': ['Sentiment', 'Summary'],\n",
    "    'Số mẫu': [len(df_sentiment), len(df_summary)],\n",
    "    'Số cột': [len(df_sentiment.columns), len(df_summary.columns)],\n",
    "})\n",
    "\n",
    "print(f\"\\nBảng tóm tắt:\")\n",
    "display(summary_table)"
   ]
  }
 ],
 "metadata": {
  "kernelspec": {
   "display_name": "base",
   "language": "python",
   "name": "python3"
  },
  "language_info": {
   "codemirror_mode": {
    "name": "ipython",
    "version": 3
   },
   "file_extension": ".py",
   "mimetype": "text/x-python",
   "name": "python",
   "nbconvert_exporter": "python",
   "pygments_lexer": "ipython3",
   "version": "3.9.21"
  }
 },
 "nbformat": 4,
 "nbformat_minor": 5
}
